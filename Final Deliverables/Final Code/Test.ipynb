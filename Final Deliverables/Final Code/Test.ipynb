{
 "cells": [
  {
   "cell_type": "markdown",
   "id": "e1bb42c8",
   "metadata": {},
   "source": [
    "## Project: Real-Time Communication System Powered by AI for Specially Abled\n",
    "## Team ID: PNT2022TMID09247"
   ]
  },
  {
   "cell_type": "code",
   "execution_count": null,
   "id": "1dae9eb4",
   "metadata": {
    "scrolled": true
   },
   "outputs": [],
   "source": [
    "from tensorflow.keras.models import load_model\n",
    "from tensorflow.keras.models import Sequential\n",
    "import numpy as np\n",
    "import cv2"
   ]
  },
  {
   "cell_type": "code",
   "execution_count": null,
   "id": "7c97d286",
   "metadata": {
    "scrolled": true
   },
   "outputs": [],
   "source": [
    "model=load_model('aslpng1.h5')"
   ]
  },
  {
   "cell_type": "code",
   "execution_count": 19,
   "id": "dc8dcf23",
   "metadata": {},
   "outputs": [],
   "source": [
    "from skimage.transform import resize\n",
    "\n",
    "def detect(frame):\n",
    "    img = resize(frame,(64,64,1))\n",
    "    img = np.expand_dims(img,axis=0)\n",
    "    if(np.max(img)>1):\n",
    "        img = img/255.0\n",
    "    prediction = model.predict(img)\n",
    "    print(prediction)\n",
    "    predictions = model.predict_classes(img)\n",
    "    print(predictions)"
   ]
  },
  {
   "cell_type": "code",
   "execution_count": null,
   "id": "e30bb64c",
   "metadata": {},
   "outputs": [],
   "source": [
    "frame = cv2.imread(r\"dataset/test_set/G/1.png\")\n",
    "data = detect(frame)"
   ]
  }
 ],
 "metadata": {
  "kernelspec": {
   "display_name": "Python 3 (ipykernel)",
   "language": "python",
   "name": "python3"
  },
  "language_info": {
   "codemirror_mode": {
    "name": "ipython",
    "version": 3
   },
   "file_extension": ".py",
   "mimetype": "text/x-python",
   "name": "python",
   "nbconvert_exporter": "python",
   "pygments_lexer": "ipython3",
   "version": "3.7.1"
  }
 },
 "nbformat": 4,
 "nbformat_minor": 5
}
