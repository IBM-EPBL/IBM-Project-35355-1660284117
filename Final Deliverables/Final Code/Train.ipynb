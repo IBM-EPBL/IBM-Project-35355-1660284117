{
 "cells": [
  {
   "cell_type": "markdown",
   "id": "e41f279d",
   "metadata": {},
   "source": [
    "## Project: Real-Time Communication System Powered by AI for Specially Abled\n",
    "## Team ID: PNT2022TMID09247"
   ]
  },
  {
   "cell_type": "code",
   "execution_count": 14,
   "id": "bb9a4e89",
   "metadata": {
    "scrolled": true
   },
   "outputs": [],
   "source": [
    "from tensorflow.keras.preprocessing.image import ImageDataGenerator\n",
    "train_datagen = ImageDataGenerator(rescale = 1./255,shear_range=0.2,zoom_range=0.2,horizontal_flip=True)\n",
    "test_datagen = ImageDataGenerator(rescale=1./255)"
   ]
  },
  {
   "cell_type": "code",
   "execution_count": 15,
   "id": "03fedfb7",
   "metadata": {
    "scrolled": true
   },
   "outputs": [
    {
     "name": "stdout",
     "output_type": "stream",
     "text": [
      "Found 2700 images belonging to 9 classes.\n",
      "Found 2700 images belonging to 9 classes.\n"
     ]
    }
   ],
   "source": [
    "x_train = train_datagen.flow_from_directory('dataset/training_set',target_size=(64,64),batch_size=300,class_mode='categorical',color_mode='grayscale')\n",
    "\n",
    "x_test = test_datagen.flow_from_directory('dataset/test_set',target_size=(64,64),batch_size=300,class_mode='categorical',color_mode='grayscale')"
   ]
  },
  {
   "cell_type": "code",
   "execution_count": 16,
   "id": "2353b419",
   "metadata": {},
   "outputs": [],
   "source": [
    "from tensorflow.keras.models import Sequential\n",
    "from tensorflow.keras.layers import Dense\n",
    "from tensorflow.keras.layers import Convolution2D\n",
    "from tensorflow.keras.layers import MaxPooling2D\n",
    "from tensorflow.keras.layers import Dropout\n",
    "from tensorflow.keras.layers import Flatten"
   ]
  },
  {
   "cell_type": "code",
   "execution_count": 17,
   "id": "def874bf",
   "metadata": {},
   "outputs": [],
   "source": [
    "model = Sequential()"
   ]
  },
  {
   "cell_type": "code",
   "execution_count": 18,
   "id": "5ce7575d",
   "metadata": {},
   "outputs": [],
   "source": [
    "model.add(Convolution2D(32,(3,3),input_shape=(64,64,1),activation='relu'))"
   ]
  },
  {
   "cell_type": "code",
   "execution_count": 19,
   "id": "66f5cc4a",
   "metadata": {},
   "outputs": [],
   "source": [
    "model.add(MaxPooling2D(pool_size=(2,2)))"
   ]
  },
  {
   "cell_type": "code",
   "execution_count": 20,
   "id": "ec43836e",
   "metadata": {},
   "outputs": [],
   "source": [
    "model.add(Flatten())"
   ]
  },
  {
   "cell_type": "code",
   "execution_count": 21,
   "id": "3956acd4",
   "metadata": {},
   "outputs": [],
   "source": [
    "model.add(Dense(units=512,activation='relu'))\n",
    "model.add(Dense(units=9,activation='softmax'))"
   ]
  },
  {
   "cell_type": "code",
   "execution_count": 22,
   "id": "5c833783",
   "metadata": {},
   "outputs": [],
   "source": [
    "model.compile(loss='categorical_crossentropy',optimizer='adam',metrics=['accuracy'])"
   ]
  },
  {
   "cell_type": "code",
   "execution_count": null,
   "id": "aa438f3b",
   "metadata": {
    "scrolled": false
   },
   "outputs": [
    {
     "name": "stdout",
     "output_type": "stream",
     "text": [
      "Epoch 1/10\n",
      "24/24 [==============================] - 30s 1s/step - loss: 1.6973 - acc: 0.5546 - val_loss: 0.5060 - val_acc: 0.9922\n",
      "Epoch 2/10\n",
      "24/24 [==============================] - 16s 650ms/step - loss: 0.2626 - acc: 0.9926 - val_loss: 0.0399 - val_acc: 0.9943\n",
      "Epoch 3/10\n",
      "24/24 [==============================] - 16s 657ms/step - loss: 0.0379 - acc: 0.9969 - val_loss: 0.0121 - val_acc: 0.9983\n",
      "Epoch 4/10\n",
      "24/24 [==============================] - 15s 609ms/step - loss: 0.0138 - acc: 0.9992 - val_loss: 0.0047 - val_acc: 0.9997\n",
      "Epoch 5/10\n",
      "24/24 [==============================] - 16s 653ms/step - loss: 0.0085 - acc: 0.9994 - val_loss: 0.0032 - val_acc: 0.9997\n",
      "Epoch 6/10\n",
      "24/24 [==============================] - 15s 642ms/step - loss: 0.0057 - acc: 0.9996 - val_loss: 0.0022 - val_acc: 0.9996\n",
      "Epoch 7/10\n",
      "24/24 [==============================] - 14s 603ms/step - loss: 0.0041 - acc: 0.9997 - val_loss: 0.0019 - val_acc: 0.9997\n",
      "Epoch 8/10\n",
      "24/24 [==============================] - 16s 653ms/step - loss: 0.0035 - acc: 0.9993 - val_loss: 0.0014 - val_acc: 0.9997\n",
      "Epoch 9/10\n",
      "24/24 [==============================] - 16s 676ms/step - loss: 0.0027 - acc: 0.9996 - val_loss: 0.0017 - val_acc: 0.9996\n",
      "Epoch 10/10\n",
      "22/24 [==========================>...] - ETA: 0s - loss: 0.0020 - acc: 0.9998"
     ]
    }
   ],
   "source": [
    "model.fit_generator(x_train,steps_per_epoch=24,epochs=10,validation_data=x_test,validation_steps=40)\n",
    "\n",
    "model.save('signlanguage1.h5')"
   ]
  },
  {
   "cell_type": "code",
   "execution_count": null,
   "id": "57e5acce",
   "metadata": {},
   "outputs": [],
   "source": []
  }
 ],
 "metadata": {
  "kernelspec": {
   "display_name": "Python 3.9.0 64-bit",
   "language": "python",
   "name": "python3"
  },
  "language_info": {
   "codemirror_mode": {
    "name": "ipython",
    "version": 3
   },
   "file_extension": ".py",
   "mimetype": "text/x-python",
   "name": "python",
   "nbconvert_exporter": "python",
   "pygments_lexer": "ipython3",
   "version": "3.9.0"
  },
  "vscode": {
   "interpreter": {
    "hash": "d77ef8a7daf3385a10cbcdbfd6076ed3f5522ea0915163f29774279ddb9a3dc3"
   }
  }
 },
 "nbformat": 4,
 "nbformat_minor": 5
}
